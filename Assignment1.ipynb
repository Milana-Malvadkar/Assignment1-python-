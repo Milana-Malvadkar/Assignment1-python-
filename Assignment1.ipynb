{
 "cells": [
  {
   "cell_type": "markdown",
   "id": "c30f8d4e",
   "metadata": {},
   "source": [
    " Assignment1"
   ]
  },
  {
   "cell_type": "code",
   "execution_count": null,
   "id": "2c69d2e7",
   "metadata": {},
   "outputs": [],
   "source": [
    "1. In the below elements which of them are values or an expression? eg:- values can be integer or string and expressions will be mathematical operators.\n",
    "* \n",
    "'hello' \n",
    "-87.8\n",
    "- \n",
    "/ \n",
    "+\n",
    "6 \n",
    "ans: Values are: 'hello',-87.8,6\n",
    "     Expressions are: +,*,-,/"
   ]
  },
  {
   "cell_type": "code",
   "execution_count": null,
   "id": "aa018fbf",
   "metadata": {},
   "outputs": [],
   "source": [
    "2. What is the difference between string and variable?\n",
    "\n",
    "ans:  String is a datatype.To create a string, put the sequence of characters inside either single quotes, double quotes, and then assign it to a variable.\n",
    "     \n",
    "      Variable is a reserved memory location to store values."
   ]
  },
  {
   "cell_type": "code",
   "execution_count": null,
   "id": "9b8d70ae",
   "metadata": {},
   "outputs": [],
   "source": [
    "3. Describe three different data types.\n",
    "ans: Integers:In Python ,there is effectively no limit to how long an integer value can be. it is constrained by the amount of memory your system has \n",
    "       String:Strings are sequences of character data. The string type in Python is called str.\n",
    "       List:Used to store multiple items in a single variable."
   ]
  },
  {
   "cell_type": "code",
   "execution_count": null,
   "id": "0c5039d4",
   "metadata": {},
   "outputs": [],
   "source": [
    "4. What is an expression made up of? What do all expressions do?\n",
    "ans:Expression made up of variables, operations and values.Expression represents a value . "
   ]
  },
  {
   "cell_type": "code",
   "execution_count": null,
   "id": "70373966",
   "metadata": {},
   "outputs": [],
   "source": [
    "5. This assignment statements, like spam = 10. What is the difference between an expression and a statement?\n",
    "ans:  Statements represent an action or command.\n",
    "    Expression is a combination of variables, operations and values that yields a result value. An expression is something that can be reduced to a valu"
   ]
  },
  {
   "cell_type": "code",
   "execution_count": null,
   "id": "491f8a4c",
   "metadata": {},
   "outputs": [],
   "source": [
    "6. After running the following code, what does the variable bacon contain?\n",
    "bacon = 22\n",
    "bacon + 1\n",
    "ans: 23\n"
   ]
  },
  {
   "cell_type": "code",
   "execution_count": null,
   "id": "fe88f8d7",
   "metadata": {},
   "outputs": [],
   "source": [
    "7. What should the values of the following two terms be?\n",
    "    a.'spam' + 'spamspam'\n",
    "        ans:'spamspamspam'\n",
    " \n",
    "    b.'spam' * 3\n",
    "        ans:'spamspamspam'\n"
   ]
  },
  {
   "cell_type": "code",
   "execution_count": null,
   "id": "dddc84a2",
   "metadata": {},
   "outputs": [],
   "source": [
    "8.Why is eggs a valid variable name while 100 is invalid?\n",
    "ans: According to the rule while creating a variable,\n",
    "    ->Variable name must start with a letter or underscore tats why egg is a valid variable.\n",
    "    ->Variable name can not start with number so 100 is not valid variable.\n",
    "   "
   ]
  },
  {
   "cell_type": "code",
   "execution_count": null,
   "id": "340e5026",
   "metadata": {},
   "outputs": [],
   "source": [
    "9.What three functions can be used to get the integer, floating-point number, or string version of a value?\n",
    "ans:The int(), float(), and str() functions will evaluate to the integer, floating-point number, and string versions of the value passed to them."
   ]
  },
  {
   "cell_type": "code",
   "execution_count": null,
   "id": "4b867e93",
   "metadata": {},
   "outputs": [],
   "source": [
    "10. Why does this expression cause an error? How can you fix it?\n",
    "'I have eaten ' + 99 + ' burritos.'\n",
    "TypeError: can only concatenate str (not \"int\") to str\n",
    "ans:   The above expression gives an error because in python the + operator can only be used to add two integers together or concatenate two strings. We can’t add an integer to a string, because this is ungrammatical in Python. We can fix this by using a string version of the integer instead.\n",
    "    ie, 'I have eaten'+ str(99) + 'burritos'"
   ]
  }
 ],
 "metadata": {
  "kernelspec": {
   "display_name": "Python 3",
   "language": "python",
   "name": "python3"
  },
  "language_info": {
   "codemirror_mode": {
    "name": "ipython",
    "version": 3
   },
   "file_extension": ".py",
   "mimetype": "text/x-python",
   "name": "python",
   "nbconvert_exporter": "python",
   "pygments_lexer": "ipython3",
   "version": "3.8.8"
  }
 },
 "nbformat": 4,
 "nbformat_minor": 5
}
